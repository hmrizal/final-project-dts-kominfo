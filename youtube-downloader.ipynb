{
 "cells": [
  {
   "cell_type": "code",
   "execution_count": 1,
   "metadata": {},
   "outputs": [
    {
     "name": "stdout",
     "output_type": "stream",
     "text": [
      "Collecting moviepy\n",
      "  Downloading moviepy-1.0.3.tar.gz (388 kB)\n",
      "     ------------------------------------- 388.3/388.3 KB 38.5 kB/s eta 0:00:00\n",
      "  Preparing metadata (setup.py): started\n",
      "  Preparing metadata (setup.py): finished with status 'done'\n",
      "Collecting decorator<5.0,>=4.0.2\n",
      "  Downloading decorator-4.4.2-py2.py3-none-any.whl (9.2 kB)\n",
      "Requirement already satisfied: tqdm<5.0,>=4.11.2 in c:\\python\\python39\\lib\\site-packages (from moviepy) (4.64.0)\n",
      "Collecting requests<3.0,>=2.8.1\n",
      "  Downloading requests-2.28.1-py3-none-any.whl (62 kB)\n",
      "     --------------------------------------- 62.8/62.8 KB 60.1 kB/s eta 0:00:00\n",
      "Collecting proglog<=1.0.0\n",
      "  Downloading proglog-0.1.10-py3-none-any.whl (6.1 kB)\n",
      "Requirement already satisfied: numpy>=1.17.3 in c:\\python\\python39\\lib\\site-packages (from moviepy) (1.23.1)\n",
      "Collecting imageio<3.0,>=2.5\n",
      "  Downloading imageio-2.22.2-py3-none-any.whl (3.4 MB)\n",
      "     ---------------------------------------- 3.4/3.4 MB 99.6 kB/s eta 0:00:00\n",
      "Collecting imageio_ffmpeg>=0.2.0\n",
      "  Downloading imageio_ffmpeg-0.4.7-py3-none-win_amd64.whl (22.6 MB)\n",
      "     ---------------------------------------- 22.6/22.6 MB 3.4 MB/s eta 0:00:00\n",
      "Requirement already satisfied: pillow>=8.3.2 in c:\\python\\python39\\lib\\site-packages (from imageio<3.0,>=2.5->moviepy) (9.2.0)\n",
      "Collecting certifi>=2017.4.17\n",
      "  Downloading certifi-2022.9.24-py3-none-any.whl (161 kB)\n",
      "     -------------------------------------- 161.1/161.1 KB 4.9 MB/s eta 0:00:00\n",
      "Collecting urllib3<1.27,>=1.21.1\n",
      "  Downloading urllib3-1.26.12-py2.py3-none-any.whl (140 kB)\n",
      "     -------------------------------------- 140.4/140.4 KB 4.1 MB/s eta 0:00:00\n",
      "Collecting idna<4,>=2.5\n",
      "  Downloading idna-3.4-py3-none-any.whl (61 kB)\n",
      "     ---------------------------------------- 61.5/61.5 KB ? eta 0:00:00\n",
      "Collecting charset-normalizer<3,>=2\n",
      "  Downloading charset_normalizer-2.1.1-py3-none-any.whl (39 kB)\n",
      "Requirement already satisfied: colorama in c:\\python\\python39\\lib\\site-packages (from tqdm<5.0,>=4.11.2->moviepy) (0.4.5)\n",
      "Building wheels for collected packages: moviepy\n",
      "  Building wheel for moviepy (setup.py): started\n",
      "  Building wheel for moviepy (setup.py): finished with status 'done'\n",
      "  Created wheel for moviepy: filename=moviepy-1.0.3-py3-none-any.whl size=110743 sha256=b9d72053afa6d220cd01645bfac040a666b1b3e96054cfc2bfa80bbb2ce26fef\n",
      "  Stored in directory: c:\\users\\dell\\appdata\\local\\pip\\cache\\wheels\\29\\15\\e4\\4f790bec6acd51a00b67e8ee1394f0bc6e0135c315f8ff399a\n",
      "Successfully built moviepy\n",
      "Installing collected packages: urllib3, imageio_ffmpeg, imageio, idna, decorator, charset-normalizer, certifi, requests, proglog, moviepy\n",
      "  Attempting uninstall: decorator\n",
      "    Found existing installation: decorator 5.1.1\n",
      "    Uninstalling decorator-5.1.1:\n",
      "      Successfully uninstalled decorator-5.1.1\n",
      "Successfully installed certifi-2022.9.24 charset-normalizer-2.1.1 decorator-4.4.2 idna-3.4 imageio-2.22.2 imageio_ffmpeg-0.4.7 moviepy-1.0.3 proglog-0.1.10 requests-2.28.1 urllib3-1.26.12\n",
      "Note: you may need to restart the kernel to use updated packages.\n"
     ]
    },
    {
     "name": "stderr",
     "output_type": "stream",
     "text": [
      "WARNING: You are using pip version 22.0.4; however, version 22.2.2 is available.\n",
      "You should consider upgrading via the 'c:\\Python\\Python39\\python.exe -m pip install --upgrade pip' command.\n"
     ]
    }
   ],
   "source": [
    "pip install moviepy"
   ]
  },
  {
   "cell_type": "code",
   "execution_count": 1,
   "metadata": {},
   "outputs": [
    {
     "name": "stdout",
     "output_type": "stream",
     "text": [
      "Collecting pytube\n",
      "  Downloading pytube-12.1.0-py3-none-any.whl (56 kB)\n",
      "     --------------------------------------- 56.5/56.5 KB 11.4 kB/s eta 0:00:00\n",
      "Installing collected packages: pytube\n",
      "Successfully installed pytube-12.1.0\n",
      "Note: you may need to restart the kernel to use updated packages.\n"
     ]
    },
    {
     "name": "stderr",
     "output_type": "stream",
     "text": [
      "WARNING: You are using pip version 22.0.4; however, version 22.2.2 is available.\n",
      "You should consider upgrading via the 'c:\\Python\\Python39\\python.exe -m pip install --upgrade pip' command.\n"
     ]
    }
   ],
   "source": [
    "pip install pytube"
   ]
  },
  {
   "cell_type": "code",
   "execution_count": 3,
   "metadata": {},
   "outputs": [],
   "source": [
    "from tkinter import *\n",
    "from tkinter import filedialog\n",
    "from moviepy import *\n",
    "from moviepy.editor import VideoFileClip\n",
    "from pytube import YouTube\n",
    "\n",
    "import shutil\n",
    "\n",
    "\n",
    "#Functions\n",
    "def select_path():\n",
    "    #allows user to select a path from the explorer\n",
    "    path = filedialog.askdirectory()\n",
    "    path_label.config(text=path)\n",
    "\n",
    "def download_file():\n",
    "    #get user path\n",
    "    get_link = link_field.get()\n",
    "    #get selected path\n",
    "    user_path = path_label.cget(\"text\")\n",
    "    screen.title('Downloading...')\n",
    "    #Download Video\n",
    "    mp4_video = YouTube(get_link).streams.get_highest_resolution().download()\n",
    "    vid_clip = VideoFileClip(mp4_video)\n",
    "    vid_clip.close()\n",
    "    #move file to selected directory\n",
    "    shutil.move(mp4_video, user_path)\n",
    "    screen.title('Download Complete! Download Another File...')\n",
    "\n",
    "screen = Tk()\n",
    "title = screen.title('Youtube Download')\n",
    "canvas = Canvas(screen, width=500, height=500)\n",
    "canvas.pack()\n",
    "\n",
    "#image logo\n",
    "logo_img = PhotoImage(file='yt.png')\n",
    "#resize\n",
    "logo_img = logo_img.subsample(2, 2)\n",
    "canvas.create_image(250, 80, image=logo_img)\n",
    "\n",
    "#link field\n",
    "link_field = Entry(screen, width=40, font=('Arial', 15) )\n",
    "link_label = Label(screen, text=\"Enter Download Link: \", font=('Arial', 15))\n",
    "\n",
    "#Select Path for saving the file\n",
    "path_label = Label(screen, text=\"Select Path For Download\", font=('Arial', 15))\n",
    "select_btn =  Button(screen, text=\"Select Path\", bg='red', padx='22', pady='5',font=('Arial', 15), fg='#fff', command=select_path)\n",
    "#Add to window\n",
    "canvas.create_window(250, 280, window=path_label)\n",
    "canvas.create_window(250, 330, window=select_btn)\n",
    "\n",
    "#Add widgets to window \n",
    "canvas.create_window(250, 170, window=link_label)\n",
    "canvas.create_window(250, 220, window=link_field)\n",
    "\n",
    "#Download btns\n",
    "download_btn = Button(screen, text=\"Download File\",bg='green', padx='22', pady='5',font=('Arial', 15), fg='#fff', command=download_file)\n",
    "#add to canvas\n",
    "canvas.create_window(250, 390, window=download_btn)\n",
    "\n",
    "screen.mainloop()"
   ]
  }
 ],
 "metadata": {
  "kernelspec": {
   "display_name": "Python 3.9.12 64-bit",
   "language": "python",
   "name": "python3"
  },
  "language_info": {
   "codemirror_mode": {
    "name": "ipython",
    "version": 3
   },
   "file_extension": ".py",
   "mimetype": "text/x-python",
   "name": "python",
   "nbconvert_exporter": "python",
   "pygments_lexer": "ipython3",
   "version": "3.9.12"
  },
  "orig_nbformat": 4,
  "vscode": {
   "interpreter": {
    "hash": "25034407fed5d681614dac11a1c0537e8cb49e3a8883c071303eea01322943d9"
   }
  }
 },
 "nbformat": 4,
 "nbformat_minor": 2
}
