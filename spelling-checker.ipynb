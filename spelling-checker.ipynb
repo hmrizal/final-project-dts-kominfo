{
 "cells": [
  {
   "cell_type": "code",
   "execution_count": 1,
   "metadata": {},
   "outputs": [
    {
     "name": "stdout",
     "output_type": "stream",
     "text": [
      "Collecting textblob\n",
      "  Downloading textblob-0.17.1-py2.py3-none-any.whl (636 kB)\n",
      "     ------------------------------------- 636.8/636.8 KB 41.7 kB/s eta 0:00:00\n",
      "Requirement already satisfied: nltk>=3.1 in c:\\python\\python39\\lib\\site-packages (from textblob) (3.7)\n",
      "Requirement already satisfied: regex>=2021.8.3 in c:\\python\\python39\\lib\\site-packages (from nltk>=3.1->textblob) (2022.7.25)\n",
      "Requirement already satisfied: tqdm in c:\\python\\python39\\lib\\site-packages (from nltk>=3.1->textblob) (4.64.0)\n",
      "Requirement already satisfied: click in c:\\python\\python39\\lib\\site-packages (from nltk>=3.1->textblob) (8.1.3)\n",
      "Requirement already satisfied: joblib in c:\\python\\python39\\lib\\site-packages (from nltk>=3.1->textblob) (1.1.0)\n",
      "Requirement already satisfied: colorama in c:\\python\\python39\\lib\\site-packages (from click->nltk>=3.1->textblob) (0.4.5)\n",
      "Installing collected packages: textblob\n",
      "Successfully installed textblob-0.17.1\n",
      "Note: you may need to restart the kernel to use updated packages.\n"
     ]
    },
    {
     "name": "stderr",
     "output_type": "stream",
     "text": [
      "WARNING: You are using pip version 22.0.4; however, version 22.2.2 is available.\n",
      "You should consider upgrading via the 'c:\\Python\\Python39\\python.exe -m pip install --upgrade pip' command.\n"
     ]
    }
   ],
   "source": [
    "pip install textblob"
   ]
  },
  {
   "cell_type": "code",
   "execution_count": 10,
   "metadata": {},
   "outputs": [],
   "source": [
    "import tkinter\n",
    "from tkinter import *\n",
    "from textblob import TextBlob\n",
    "\n",
    "root=Tk()\n",
    "root.title(\"Spelling Checker\")\n",
    "root.geometry(\"700x400\")\n",
    "root.config(background=\"#dae6f6\")\n",
    "\n",
    "def check_spelling():\n",
    "    word=enter_text.get()\n",
    "    a=TextBlob(word)\n",
    "    right=str(a.correct())\n",
    "\n",
    "    cs=Label(root,text=\"Correct spelling is :\",font=(\"poppins\",20),bg=\"#dae6f6\",fg=\"#364971\")\n",
    "    cs.place(x=100,y=250)\n",
    "    spell.config(text=right)\n",
    "\n",
    "    \n",
    "\n",
    "heading=Label(root,text=\"Spelling Checker\",font=(\"Trebuchet MS\",30,\"bold\"),bg=\"#dae6f6\",fg=\"#364971\")\n",
    "heading.pack(pady=(50,0))\n",
    "\n",
    "enter_text=Entry(root,justify=\"center\",width=30,font=(\"poppins\",25),bg=\"white\",border=2)\n",
    "enter_text.pack(pady=10)\n",
    "enter_text.focus()\n",
    "\n",
    "button=Button(root,text=\"Check\",font=(\"Arial\",20,\"bold\"),fg=\"white\",bg=\"green\",command=check_spelling)\n",
    "button.pack()\n",
    "\n",
    "spell=Label(root,font=(\"poppins\",20),bg=\"#dae6f6\",fg=\"#364971\")\n",
    "spell.place(x=350,y=250)\n",
    "\n",
    "root.mainloop()"
   ]
  }
 ],
 "metadata": {
  "kernelspec": {
   "display_name": "Python 3.9.12 64-bit",
   "language": "python",
   "name": "python3"
  },
  "language_info": {
   "codemirror_mode": {
    "name": "ipython",
    "version": 3
   },
   "file_extension": ".py",
   "mimetype": "text/x-python",
   "name": "python",
   "nbconvert_exporter": "python",
   "pygments_lexer": "ipython3",
   "version": "3.9.12"
  },
  "orig_nbformat": 4,
  "vscode": {
   "interpreter": {
    "hash": "25034407fed5d681614dac11a1c0537e8cb49e3a8883c071303eea01322943d9"
   }
  }
 },
 "nbformat": 4,
 "nbformat_minor": 2
}
